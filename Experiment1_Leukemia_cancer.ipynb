{
 "cells": [
  {
   "cell_type": "markdown",
   "id": "3c41a567",
   "metadata": {},
   "source": [
    "# An Investigative Study of Swarm Intelligence Optimization for Microarray Data Gene Selection"
   ]
  },
  {
   "cell_type": "code",
   "execution_count": 1,
   "id": "dc015f14",
   "metadata": {},
   "outputs": [],
   "source": [
    "import numpy as np\n",
    "import pandas as pd\n",
    "from sklearn.neighbors import KNeighborsClassifier\n",
    "from sklearn.model_selection import train_test_split\n",
    "from FS.woa import jfs   # change this to switch algorithm \n",
    "import matplotlib.pyplot as plt\n",
    "from sklearn.preprocessing import LabelEncoder\n",
    "from sklearn.metrics import accuracy_score\n",
    "from IPython.display import display\n",
    "\n",
    "from sklearn.preprocessing import StandardScaler\n",
    "from sklearn.pipeline import make_pipeline\n",
    "from sklearn.feature_selection import SelectKBest\n",
    "from sklearn.feature_selection import chi2, mutual_info_classif, f_classif\n",
    "from skrebate import ReliefF\n",
    "from sklearn.svm import SVC\n",
    "from sklearn.neighbors import KNeighborsClassifier\n",
    "from sklearn.model_selection import cross_val_score\n",
    "from datetime import datetime as dt\n",
    "import time\n",
    "from sklearn.metrics import roc_curve, auc\n",
    "from sklearn.metrics import confusion_matrix\n",
    "from sklearn.metrics import classification_report, accuracy_score"
   ]
  },
  {
   "cell_type": "markdown",
   "id": "daa80775",
   "metadata": {},
   "source": [
    "Now we import our dataset i.e, ionosphere"
   ]
  },
  {
   "cell_type": "code",
   "execution_count": 2,
   "id": "14b85e34",
   "metadata": {},
   "outputs": [],
   "source": [
    "Df = pd.read_csv('Datasets/Leukemia_cancer.csv')"
   ]
  },
  {
   "cell_type": "code",
   "execution_count": 3,
   "id": "b7615811",
   "metadata": {},
   "outputs": [],
   "source": [
    "#Df.head()"
   ]
  },
  {
   "cell_type": "code",
   "execution_count": 4,
   "id": "6ece112a",
   "metadata": {},
   "outputs": [],
   "source": [
    "#Df.isnull().sum()\n",
    "#Df.dtypes"
   ]
  },
  {
   "cell_type": "code",
   "execution_count": 5,
   "id": "2a8c0bfa",
   "metadata": {},
   "outputs": [
    {
     "data": {
      "text/plain": [
       "(72, 3573)"
      ]
     },
     "execution_count": 5,
     "metadata": {},
     "output_type": "execute_result"
    }
   ],
   "source": [
    "Df.shape"
   ]
  },
  {
   "cell_type": "code",
   "execution_count": 6,
   "id": "ee016b95",
   "metadata": {},
   "outputs": [],
   "source": [
    "#Df.isna().sum()\n",
    "#Df.isna()"
   ]
  },
  {
   "cell_type": "code",
   "execution_count": 7,
   "id": "92d4f3e4",
   "metadata": {},
   "outputs": [],
   "source": [
    "#Df.info()"
   ]
  },
  {
   "cell_type": "code",
   "execution_count": 8,
   "id": "77c5b941",
   "metadata": {},
   "outputs": [],
   "source": [
    "Df = Df.drop(['samples'],axis = 1)"
   ]
  },
  {
   "cell_type": "code",
   "execution_count": 9,
   "id": "ec9138e2",
   "metadata": {},
   "outputs": [],
   "source": [
    "#Df.head()"
   ]
  },
  {
   "cell_type": "code",
   "execution_count": 10,
   "id": "89ff8952",
   "metadata": {},
   "outputs": [
    {
     "name": "stderr",
     "output_type": "stream",
     "text": [
      "C:\\Users\\ISUWA JEREMIAH\\AppData\\Local\\Temp\\ipykernel_22884\\83483696.py:1: FutureWarning: Dropping of nuisance columns in DataFrame reductions (with 'numeric_only=None') is deprecated; in a future version this will raise TypeError.  Select only valid columns before calling the reduction.\n",
      "  Df = Df.fillna(Df.mean())\n"
     ]
    }
   ],
   "source": [
    "Df = Df.fillna(Df.mean())"
   ]
  },
  {
   "cell_type": "code",
   "execution_count": 11,
   "id": "e8f3e376",
   "metadata": {},
   "outputs": [
    {
     "data": {
      "text/plain": [
       "(72, 3572)"
      ]
     },
     "execution_count": 11,
     "metadata": {},
     "output_type": "execute_result"
    }
   ],
   "source": [
    "Df.shape"
   ]
  },
  {
   "cell_type": "code",
   "execution_count": 12,
   "id": "bcc16dd6",
   "metadata": {},
   "outputs": [
    {
     "data": {
      "text/plain": [
       "Response\n",
       "normal    47\n",
       "tumar     25\n",
       "dtype: int64"
      ]
     },
     "execution_count": 12,
     "metadata": {},
     "output_type": "execute_result"
    }
   ],
   "source": [
    "Df.value_counts('Response')"
   ]
  },
  {
   "cell_type": "code",
   "execution_count": 13,
   "id": "ef125101",
   "metadata": {},
   "outputs": [],
   "source": [
    "#Df.value_counts('Response').plot(kind = 'bar')"
   ]
  },
  {
   "cell_type": "code",
   "execution_count": 14,
   "id": "8f2630a3",
   "metadata": {},
   "outputs": [],
   "source": [
    "Df['Response'] = LabelEncoder().fit_transform(Df['Response'])\n",
    "#Df"
   ]
  },
  {
   "cell_type": "markdown",
   "id": "5edbcd30",
   "metadata": {},
   "source": [
    "We then perform numerous data cleaning operations on the data."
   ]
  },
  {
   "cell_type": "code",
   "execution_count": 15,
   "id": "840683d2",
   "metadata": {},
   "outputs": [],
   "source": [
    "#Df[\"Response\"]"
   ]
  },
  {
   "cell_type": "markdown",
   "id": "dd5dbde9",
   "metadata": {},
   "source": [
    "WE need to do some data preprocessing"
   ]
  },
  {
   "cell_type": "code",
   "execution_count": 16,
   "id": "c70106eb",
   "metadata": {},
   "outputs": [],
   "source": [
    "Df = Df.apply(pd.to_numeric)"
   ]
  },
  {
   "cell_type": "code",
   "execution_count": 17,
   "id": "51b24e22",
   "metadata": {},
   "outputs": [],
   "source": [
    "Df1 = Df.copy()"
   ]
  },
  {
   "cell_type": "code",
   "execution_count": 18,
   "id": "7d6ce4aa",
   "metadata": {},
   "outputs": [],
   "source": [
    "#First we need to make sure the class is numeric and there are no negative values"
   ]
  },
  {
   "cell_type": "code",
   "execution_count": 19,
   "id": "675693ac",
   "metadata": {},
   "outputs": [],
   "source": [
    "#Now we separate the data into train and test sets\n",
    "#x = Df1.iloc[:,0:33]\n",
    "#x = np.asarray(Df[:, 0:-1])\n",
    "x = Df1.drop(['Response'], axis = 1)"
   ]
  },
  {
   "cell_type": "code",
   "execution_count": 20,
   "id": "9e055746",
   "metadata": {},
   "outputs": [],
   "source": [
    "#x.shape"
   ]
  },
  {
   "cell_type": "code",
   "execution_count": 21,
   "id": "da630ce2",
   "metadata": {},
   "outputs": [],
   "source": [
    "y = Df.loc[:,['Response']]\n",
    "#y = np.asarray(Df[:, -1])"
   ]
  },
  {
   "cell_type": "code",
   "execution_count": 22,
   "id": "fee13951",
   "metadata": {},
   "outputs": [],
   "source": [
    "#display(y)"
   ]
  },
  {
   "cell_type": "code",
   "execution_count": 23,
   "id": "a0566112",
   "metadata": {},
   "outputs": [],
   "source": [
    "'''\n",
    "We need to scale the data to help improve performance.\n",
    "Normalize the  data (center around 0 and scale to remove the variance\n",
    "'''\n",
    "\n",
    "scaler = StandardScaler()\n",
    "xs = scaler.fit_transform(x)\n",
    "xs = np.abs(xs)\n",
    "\n",
    "y = np.ravel(y) #Hide when using chi2, ANOVA"
   ]
  },
  {
   "cell_type": "code",
   "execution_count": 24,
   "id": "58888a56",
   "metadata": {},
   "outputs": [
    {
     "data": {
      "text/html": [
       "<style>#sk-container-id-1 {color: black;background-color: white;}#sk-container-id-1 pre{padding: 0;}#sk-container-id-1 div.sk-toggleable {background-color: white;}#sk-container-id-1 label.sk-toggleable__label {cursor: pointer;display: block;width: 100%;margin-bottom: 0;padding: 0.3em;box-sizing: border-box;text-align: center;}#sk-container-id-1 label.sk-toggleable__label-arrow:before {content: \"▸\";float: left;margin-right: 0.25em;color: #696969;}#sk-container-id-1 label.sk-toggleable__label-arrow:hover:before {color: black;}#sk-container-id-1 div.sk-estimator:hover label.sk-toggleable__label-arrow:before {color: black;}#sk-container-id-1 div.sk-toggleable__content {max-height: 0;max-width: 0;overflow: hidden;text-align: left;background-color: #f0f8ff;}#sk-container-id-1 div.sk-toggleable__content pre {margin: 0.2em;color: black;border-radius: 0.25em;background-color: #f0f8ff;}#sk-container-id-1 input.sk-toggleable__control:checked~div.sk-toggleable__content {max-height: 200px;max-width: 100%;overflow: auto;}#sk-container-id-1 input.sk-toggleable__control:checked~label.sk-toggleable__label-arrow:before {content: \"▾\";}#sk-container-id-1 div.sk-estimator input.sk-toggleable__control:checked~label.sk-toggleable__label {background-color: #d4ebff;}#sk-container-id-1 div.sk-label input.sk-toggleable__control:checked~label.sk-toggleable__label {background-color: #d4ebff;}#sk-container-id-1 input.sk-hidden--visually {border: 0;clip: rect(1px 1px 1px 1px);clip: rect(1px, 1px, 1px, 1px);height: 1px;margin: -1px;overflow: hidden;padding: 0;position: absolute;width: 1px;}#sk-container-id-1 div.sk-estimator {font-family: monospace;background-color: #f0f8ff;border: 1px dotted black;border-radius: 0.25em;box-sizing: border-box;margin-bottom: 0.5em;}#sk-container-id-1 div.sk-estimator:hover {background-color: #d4ebff;}#sk-container-id-1 div.sk-parallel-item::after {content: \"\";width: 100%;border-bottom: 1px solid gray;flex-grow: 1;}#sk-container-id-1 div.sk-label:hover label.sk-toggleable__label {background-color: #d4ebff;}#sk-container-id-1 div.sk-serial::before {content: \"\";position: absolute;border-left: 1px solid gray;box-sizing: border-box;top: 0;bottom: 0;left: 50%;z-index: 0;}#sk-container-id-1 div.sk-serial {display: flex;flex-direction: column;align-items: center;background-color: white;padding-right: 0.2em;padding-left: 0.2em;position: relative;}#sk-container-id-1 div.sk-item {position: relative;z-index: 1;}#sk-container-id-1 div.sk-parallel {display: flex;align-items: stretch;justify-content: center;background-color: white;position: relative;}#sk-container-id-1 div.sk-item::before, #sk-container-id-1 div.sk-parallel-item::before {content: \"\";position: absolute;border-left: 1px solid gray;box-sizing: border-box;top: 0;bottom: 0;left: 50%;z-index: -1;}#sk-container-id-1 div.sk-parallel-item {display: flex;flex-direction: column;z-index: 1;position: relative;background-color: white;}#sk-container-id-1 div.sk-parallel-item:first-child::after {align-self: flex-end;width: 50%;}#sk-container-id-1 div.sk-parallel-item:last-child::after {align-self: flex-start;width: 50%;}#sk-container-id-1 div.sk-parallel-item:only-child::after {width: 0;}#sk-container-id-1 div.sk-dashed-wrapped {border: 1px dashed gray;margin: 0 0.4em 0.5em 0.4em;box-sizing: border-box;padding-bottom: 0.4em;background-color: white;}#sk-container-id-1 div.sk-label label {font-family: monospace;font-weight: bold;display: inline-block;line-height: 1.2em;}#sk-container-id-1 div.sk-label-container {text-align: center;}#sk-container-id-1 div.sk-container {/* jupyter's `normalize.less` sets `[hidden] { display: none; }` but bootstrap.min.css set `[hidden] { display: none !important; }` so we also need the `!important` here to be able to override the default hidden behavior on the sphinx rendered scikit-learn.org. See: https://github.com/scikit-learn/scikit-learn/issues/21755 */display: inline-block !important;position: relative;}#sk-container-id-1 div.sk-text-repr-fallback {display: none;}</style><div id=\"sk-container-id-1\" class=\"sk-top-container\"><div class=\"sk-text-repr-fallback\"><pre>SelectKBest(k=100,\n",
       "            score_func=&lt;function mutual_info_classif at 0x000001D4E82ADB80&gt;)</pre><b>In a Jupyter environment, please rerun this cell to show the HTML representation or trust the notebook. <br />On GitHub, the HTML representation is unable to render, please try loading this page with nbviewer.org.</b></div><div class=\"sk-container\" hidden><div class=\"sk-item\"><div class=\"sk-estimator sk-toggleable\"><input class=\"sk-toggleable__control sk-hidden--visually\" id=\"sk-estimator-id-1\" type=\"checkbox\" checked><label for=\"sk-estimator-id-1\" class=\"sk-toggleable__label sk-toggleable__label-arrow\">SelectKBest</label><div class=\"sk-toggleable__content\"><pre>SelectKBest(k=100,\n",
       "            score_func=&lt;function mutual_info_classif at 0x000001D4E82ADB80&gt;)</pre></div></div></div></div></div>"
      ],
      "text/plain": [
       "SelectKBest(k=100,\n",
       "            score_func=<function mutual_info_classif at 0x000001D4E82ADB80>)"
      ]
     },
     "execution_count": 24,
     "metadata": {},
     "output_type": "execute_result"
    }
   ],
   "source": [
    "#Now we apply our feature selection i.e., Relief F, and KNN classifier\n",
    "#We will want to use pipelining\n",
    "start = dt.now() #representing the starting time of a task/process\n",
    "#fitt = SelectKBest(score_func = f_classif, k = 100)\n",
    "#fitt = SelectKBest(score_func = chi2, k = 100)\n",
    "fitt = SelectKBest(score_func = mutual_info_classif, k = 100)\n",
    "fitt.fit(xs,y)\n",
    "\n",
    "#Clf = make_pipeline(ReliefF(n_features_to_select=15), KNeighborsClassifier())\n",
    "#Clf = make_pipeline(SelectKBest(score_func = ReliefF, k = 10), KNeighborsClassifier())"
   ]
  },
  {
   "cell_type": "code",
   "execution_count": 25,
   "id": "04daff18",
   "metadata": {},
   "outputs": [],
   "source": [
    "xs = fitt.transform(xs)"
   ]
  },
  {
   "cell_type": "code",
   "execution_count": 26,
   "id": "f286169c",
   "metadata": {},
   "outputs": [],
   "source": [
    "#Normalization to convert to same form\n",
    "#scaler = StandardScaler()\n",
    "#xss = scaler.fit_transform(xs)"
   ]
  },
  {
   "cell_type": "code",
   "execution_count": 27,
   "id": "dc302e5c",
   "metadata": {},
   "outputs": [],
   "source": [
    "#y = y.values #Activate when using chi2, ANOVA"
   ]
  },
  {
   "cell_type": "code",
   "execution_count": 28,
   "id": "9bfa7f45",
   "metadata": {},
   "outputs": [
    {
     "data": {
      "text/plain": [
       "(72, 100)"
      ]
     },
     "execution_count": 28,
     "metadata": {},
     "output_type": "execute_result"
    }
   ],
   "source": [
    "xs.shape"
   ]
  },
  {
   "cell_type": "code",
   "execution_count": 29,
   "id": "a0e20f9c",
   "metadata": {},
   "outputs": [],
   "source": [
    "#We now split our data into traning and testing sets (70:30)\n",
    "x_train, x_test, y_train, y_test = train_test_split(xs, y, test_size = 0.3 , stratify = y)\n",
    "fold = {'xt': x_train, 'yt': y_train, 'xv': x_test, 'yv': y_test}"
   ]
  },
  {
   "cell_type": "code",
   "execution_count": 30,
   "id": "1dab071d",
   "metadata": {},
   "outputs": [],
   "source": [
    "#Now we set our parameters\n",
    "K = 5 #K value in KNN\n",
    "N = 20 #Population size\n",
    "T = 50 #Max iter\n",
    "#options = {'k': K, 'fold': fold, 'N': N, 'T': T}\n",
    "\n",
    "\n",
    "## Firefly Algorithm (FA)\n",
    "#FA contains 4 extra parameters\n",
    "'''\n",
    "alpha  = 1       # constant\n",
    "beta0  = 1       # light amplitude\n",
    "gamma  = 1       # absorbtion coefficient\n",
    "theta  = 0.97    # control alpha\n",
    "options = {'k':K, 'fold':fold, 'N':N, 'T':T, 'alpha':alpha, 'beta0':beta0, 'gamma':gamma, 'theta':theta}'''\n",
    "    \n",
    "\n",
    "'''c1  = 2         # cognitive factor\n",
    "c2  = 2         # social factor \n",
    "w   = 0.9       # inertia weight\n",
    "options = {'k': K, 'fold': fold, 'N': N, 'T': T, 'w':w, 'c1':c1, 'c2':c2}'''\n",
    "\n",
    "## Cuckoo Search (CS)\n",
    "#CS contains 1 extra parameter\n",
    "\n",
    "'''Pa  = 0.25   # discovery rate\n",
    "options = {'k':K, 'fold':fold, 'N':N, 'T':T, 'Pa':Pa}'''\n",
    "\n",
    "\n",
    "## Whale Optimization Algorithm (WOA)\n",
    "#WOA contains 1 extra parameter\n",
    "\n",
    "b  = 1    # constant\n",
    "options = {'k':K, 'fold':fold, 'N':N, 'T':T, 'b':b}"
   ]
  },
  {
   "cell_type": "code",
   "execution_count": 31,
   "id": "5b36b439",
   "metadata": {},
   "outputs": [
    {
     "name": "stdout",
     "output_type": "stream",
     "text": [
      "Generation: 1\n",
      "Best (WOA): 0.04989999999999996\n",
      "Generation: 2\n",
      "Best (WOA): 0.004700000000000004\n",
      "Generation: 3\n",
      "Best (WOA): 0.004700000000000004\n",
      "Generation: 4\n",
      "Best (WOA): 0.004700000000000004\n",
      "Generation: 5\n",
      "Best (WOA): 0.0043000000000000035\n",
      "Generation: 6\n",
      "Best (WOA): 0.0043000000000000035\n",
      "Generation: 7\n",
      "Best (WOA): 0.0034000000000000033\n",
      "Generation: 8\n",
      "Best (WOA): 0.003300000000000003\n",
      "Generation: 9\n",
      "Best (WOA): 0.003300000000000003\n",
      "Generation: 10\n",
      "Best (WOA): 0.003300000000000003\n",
      "Generation: 11\n",
      "Best (WOA): 0.003300000000000003\n",
      "Generation: 12\n",
      "Best (WOA): 0.003300000000000003\n",
      "Generation: 13\n",
      "Best (WOA): 0.003300000000000003\n",
      "Generation: 14\n",
      "Best (WOA): 0.003300000000000003\n",
      "Generation: 15\n",
      "Best (WOA): 0.003300000000000003\n",
      "Generation: 16\n",
      "Best (WOA): 0.003300000000000003\n",
      "Generation: 17\n",
      "Best (WOA): 0.003300000000000003\n",
      "Generation: 18\n",
      "Best (WOA): 0.003300000000000003\n",
      "Generation: 19\n",
      "Best (WOA): 0.003300000000000003\n",
      "Generation: 20\n",
      "Best (WOA): 0.003300000000000003\n",
      "Generation: 21\n",
      "Best (WOA): 0.003300000000000003\n",
      "Generation: 22\n",
      "Best (WOA): 0.003300000000000003\n",
      "Generation: 23\n",
      "Best (WOA): 0.003300000000000003\n",
      "Generation: 24\n",
      "Best (WOA): 0.003300000000000003\n",
      "Generation: 25\n",
      "Best (WOA): 0.003300000000000003\n",
      "Generation: 26\n",
      "Best (WOA): 0.003300000000000003\n",
      "Generation: 27\n",
      "Best (WOA): 0.003300000000000003\n",
      "Generation: 28\n",
      "Best (WOA): 0.003300000000000003\n",
      "Generation: 29\n",
      "Best (WOA): 0.003300000000000003\n",
      "Generation: 30\n",
      "Best (WOA): 0.003300000000000003\n",
      "Generation: 31\n",
      "Best (WOA): 0.003300000000000003\n",
      "Generation: 32\n",
      "Best (WOA): 0.003300000000000003\n",
      "Generation: 33\n",
      "Best (WOA): 0.003300000000000003\n",
      "Generation: 34\n",
      "Best (WOA): 0.003300000000000003\n",
      "Generation: 35\n",
      "Best (WOA): 0.003300000000000003\n",
      "Generation: 36\n",
      "Best (WOA): 0.003300000000000003\n",
      "Generation: 37\n",
      "Best (WOA): 0.003300000000000003\n",
      "Generation: 38\n",
      "Best (WOA): 0.003300000000000003\n",
      "Generation: 39\n",
      "Best (WOA): 0.003300000000000003\n",
      "Generation: 40\n",
      "Best (WOA): 0.003300000000000003\n",
      "Generation: 41\n",
      "Best (WOA): 0.003300000000000003\n",
      "Generation: 42\n",
      "Best (WOA): 0.003300000000000003\n",
      "Generation: 43\n",
      "Best (WOA): 0.003300000000000003\n",
      "Generation: 44\n",
      "Best (WOA): 0.003300000000000003\n",
      "Generation: 45\n",
      "Best (WOA): 0.003300000000000003\n",
      "Generation: 46\n",
      "Best (WOA): 0.003300000000000003\n",
      "Generation: 47\n",
      "Best (WOA): 0.003300000000000003\n",
      "Generation: 48\n",
      "Best (WOA): 0.003300000000000003\n",
      "Generation: 49\n",
      "Best (WOA): 0.003300000000000003\n",
      "Generation: 50\n",
      "Best (WOA): 0.003300000000000003\n"
     ]
    }
   ],
   "source": [
    "#Now we perform our feature selection by calling the module jfs\n",
    "fmdl = jfs(xs, y, options) #feature selection model\n",
    "sf = fmdl['sf'] #index of selected features"
   ]
  },
  {
   "cell_type": "code",
   "execution_count": 32,
   "id": "7ff9b1fd",
   "metadata": {},
   "outputs": [],
   "source": [
    "#print(sf)"
   ]
  },
  {
   "cell_type": "code",
   "execution_count": 33,
   "id": "695685e4",
   "metadata": {},
   "outputs": [],
   "source": [
    "#Model with selected features\n",
    "num_train = np.size(x_train,0)#checks the number of samples slected in the x_train and assign to num_train\n",
    "num_test = np.size(x_test, 0)#checks the number of samples slected in the x_train and assign to num_train\n",
    "xtrain = x_train[:,sf]\n",
    "ytrain = y_train.reshape(num_train)\n",
    "xtest = x_test[:,sf]\n",
    "ytest = y_test.reshape(num_test) #I suffered fixing the bug"
   ]
  },
  {
   "cell_type": "code",
   "execution_count": 34,
   "id": "b283e862",
   "metadata": {},
   "outputs": [
    {
     "data": {
      "text/html": [
       "<style>#sk-container-id-2 {color: black;background-color: white;}#sk-container-id-2 pre{padding: 0;}#sk-container-id-2 div.sk-toggleable {background-color: white;}#sk-container-id-2 label.sk-toggleable__label {cursor: pointer;display: block;width: 100%;margin-bottom: 0;padding: 0.3em;box-sizing: border-box;text-align: center;}#sk-container-id-2 label.sk-toggleable__label-arrow:before {content: \"▸\";float: left;margin-right: 0.25em;color: #696969;}#sk-container-id-2 label.sk-toggleable__label-arrow:hover:before {color: black;}#sk-container-id-2 div.sk-estimator:hover label.sk-toggleable__label-arrow:before {color: black;}#sk-container-id-2 div.sk-toggleable__content {max-height: 0;max-width: 0;overflow: hidden;text-align: left;background-color: #f0f8ff;}#sk-container-id-2 div.sk-toggleable__content pre {margin: 0.2em;color: black;border-radius: 0.25em;background-color: #f0f8ff;}#sk-container-id-2 input.sk-toggleable__control:checked~div.sk-toggleable__content {max-height: 200px;max-width: 100%;overflow: auto;}#sk-container-id-2 input.sk-toggleable__control:checked~label.sk-toggleable__label-arrow:before {content: \"▾\";}#sk-container-id-2 div.sk-estimator input.sk-toggleable__control:checked~label.sk-toggleable__label {background-color: #d4ebff;}#sk-container-id-2 div.sk-label input.sk-toggleable__control:checked~label.sk-toggleable__label {background-color: #d4ebff;}#sk-container-id-2 input.sk-hidden--visually {border: 0;clip: rect(1px 1px 1px 1px);clip: rect(1px, 1px, 1px, 1px);height: 1px;margin: -1px;overflow: hidden;padding: 0;position: absolute;width: 1px;}#sk-container-id-2 div.sk-estimator {font-family: monospace;background-color: #f0f8ff;border: 1px dotted black;border-radius: 0.25em;box-sizing: border-box;margin-bottom: 0.5em;}#sk-container-id-2 div.sk-estimator:hover {background-color: #d4ebff;}#sk-container-id-2 div.sk-parallel-item::after {content: \"\";width: 100%;border-bottom: 1px solid gray;flex-grow: 1;}#sk-container-id-2 div.sk-label:hover label.sk-toggleable__label {background-color: #d4ebff;}#sk-container-id-2 div.sk-serial::before {content: \"\";position: absolute;border-left: 1px solid gray;box-sizing: border-box;top: 0;bottom: 0;left: 50%;z-index: 0;}#sk-container-id-2 div.sk-serial {display: flex;flex-direction: column;align-items: center;background-color: white;padding-right: 0.2em;padding-left: 0.2em;position: relative;}#sk-container-id-2 div.sk-item {position: relative;z-index: 1;}#sk-container-id-2 div.sk-parallel {display: flex;align-items: stretch;justify-content: center;background-color: white;position: relative;}#sk-container-id-2 div.sk-item::before, #sk-container-id-2 div.sk-parallel-item::before {content: \"\";position: absolute;border-left: 1px solid gray;box-sizing: border-box;top: 0;bottom: 0;left: 50%;z-index: -1;}#sk-container-id-2 div.sk-parallel-item {display: flex;flex-direction: column;z-index: 1;position: relative;background-color: white;}#sk-container-id-2 div.sk-parallel-item:first-child::after {align-self: flex-end;width: 50%;}#sk-container-id-2 div.sk-parallel-item:last-child::after {align-self: flex-start;width: 50%;}#sk-container-id-2 div.sk-parallel-item:only-child::after {width: 0;}#sk-container-id-2 div.sk-dashed-wrapped {border: 1px dashed gray;margin: 0 0.4em 0.5em 0.4em;box-sizing: border-box;padding-bottom: 0.4em;background-color: white;}#sk-container-id-2 div.sk-label label {font-family: monospace;font-weight: bold;display: inline-block;line-height: 1.2em;}#sk-container-id-2 div.sk-label-container {text-align: center;}#sk-container-id-2 div.sk-container {/* jupyter's `normalize.less` sets `[hidden] { display: none; }` but bootstrap.min.css set `[hidden] { display: none !important; }` so we also need the `!important` here to be able to override the default hidden behavior on the sphinx rendered scikit-learn.org. See: https://github.com/scikit-learn/scikit-learn/issues/21755 */display: inline-block !important;position: relative;}#sk-container-id-2 div.sk-text-repr-fallback {display: none;}</style><div id=\"sk-container-id-2\" class=\"sk-top-container\"><div class=\"sk-text-repr-fallback\"><pre>KNeighborsClassifier()</pre><b>In a Jupyter environment, please rerun this cell to show the HTML representation or trust the notebook. <br />On GitHub, the HTML representation is unable to render, please try loading this page with nbviewer.org.</b></div><div class=\"sk-container\" hidden><div class=\"sk-item\"><div class=\"sk-estimator sk-toggleable\"><input class=\"sk-toggleable__control sk-hidden--visually\" id=\"sk-estimator-id-2\" type=\"checkbox\" checked><label for=\"sk-estimator-id-2\" class=\"sk-toggleable__label sk-toggleable__label-arrow\">KNeighborsClassifier</label><div class=\"sk-toggleable__content\"><pre>KNeighborsClassifier()</pre></div></div></div></div></div>"
      ],
      "text/plain": [
       "KNeighborsClassifier()"
      ]
     },
     "execution_count": 34,
     "metadata": {},
     "output_type": "execute_result"
    }
   ],
   "source": [
    "#Now we build our model i.e., the classifier\n",
    "model = KNeighborsClassifier(n_neighbors = 5) \n",
    "model.fit(xtrain, ytrain)"
   ]
  },
  {
   "cell_type": "code",
   "execution_count": 35,
   "id": "debea609",
   "metadata": {},
   "outputs": [
    {
     "name": "stdout",
     "output_type": "stream",
     "text": [
      "The accuracy is:  100.0\n"
     ]
    }
   ],
   "source": [
    "#Calculating for accuracy\n",
    "y_pred = model.predict(xtest)\n",
    "acc = accuracy_score(ytest, y_pred)*100\n",
    "\n",
    "\n",
    "end = dt.now()\n",
    "#print('Total duration of time is: ', str(end - start))\n",
    "\n",
    "print('The accuracy is: ', round(acc, 2))"
   ]
  },
  {
   "cell_type": "code",
   "execution_count": 36,
   "id": "d7484ed2",
   "metadata": {
    "scrolled": true
   },
   "outputs": [
    {
     "name": "stdout",
     "output_type": "stream",
     "text": [
      "The number of selected features is:  33\n"
     ]
    }
   ],
   "source": [
    "#Now we check the number of selected features\n",
    "Nfea = len(sf)\n",
    "print(\"The number of selected features is: \", str(Nfea))"
   ]
  },
  {
   "cell_type": "code",
   "execution_count": 37,
   "id": "746bbcde",
   "metadata": {},
   "outputs": [],
   "source": [
    "#You as well plot the confusion matrix using the (y_test, y_pred)\n",
    "cm = confusion_matrix(ytest, y_pred)\n",
    "#print(cm)"
   ]
  },
  {
   "cell_type": "code",
   "execution_count": 38,
   "id": "6569b224",
   "metadata": {},
   "outputs": [],
   "source": [
    "f_mea = classification_report(ytest, y_pred)\n",
    "#print(f_mea)"
   ]
  },
  {
   "cell_type": "code",
   "execution_count": 39,
   "id": "52d02ca1",
   "metadata": {},
   "outputs": [
    {
     "data": {
      "image/png": "[encoded data removed]",
      "text/plain": [
       "<Figure size 600x300 with 1 Axes>"
      ]
     },
     "metadata": {},
     "output_type": "display_data"
    }
   ],
   "source": [
    "#Now we finally plot the conversgence curve. MY DREAM \n",
    "#Fig, ax = plt.subplots(figsize = (6,4))\n",
    "#plt.title('Convergence curve', fontsize = 12)\n",
    "curve = fmdl['c']\n",
    "curve = curve.reshape(np.size(curve, 1))\n",
    "x = np.arange(0,options['T'], 1.0)+1.0\n",
    "\n",
    "Fig, ax = plt.subplots(figsize = (6,3))\n",
    "#ax.plot(x, curve, 'o-')\n",
    "plt.plot(x, curve)\n",
    "plt.xlabel('Number of Iterations', fontsize = 10)\n",
    "plt.ylabel('Fitness', fontsize = 10)\n",
    "plt.title('Convergence Curve for WOA', fontsize = 12)\n",
    "plt.grid()\n",
    "plt.show()"
   ]
  },
  {
   "cell_type": "code",
   "execution_count": null,
   "id": "3272b51c",
   "metadata": {},
   "outputs": [],
   "source": []
  }
 ],
 "metadata": {
  "kernelspec": {
   "display_name": "Python 3 (ipykernel)",
   "language": "python",
   "name": "python3"
  },
  "language_info": {
   "codemirror_mode": {
    "name": "ipython",
    "version": 3
   },
   "file_extension": ".py",
   "mimetype": "text/x-python",
   "name": "python",
   "nbconvert_exporter": "python",
   "pygments_lexer": "ipython3",
   "version": "3.9.13"
  }
 },
 "nbformat": 4,
 "nbformat_minor": 5
}
